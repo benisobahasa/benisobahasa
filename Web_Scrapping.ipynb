{
  "nbformat": 4,
  "nbformat_minor": 0,
  "metadata": {
    "colab": {
      "provenance": [],
      "authorship_tag": "ABX9TyNwcALcWlhyknM5i8s3XXJA",
      "include_colab_link": true
    },
    "kernelspec": {
      "name": "python3",
      "display_name": "Python 3"
    },
    "language_info": {
      "name": "python"
    }
  },
  "cells": [
    {
      "cell_type": "markdown",
      "metadata": {
        "id": "view-in-github",
        "colab_type": "text"
      },
      "source": [
        "<a href=\"https://colab.research.google.com/github/benisobahasa/benisobahasa/blob/main/Web_Scrapping.ipynb\" target=\"_parent\"><img src=\"https://colab.research.google.com/assets/colab-badge.svg\" alt=\"Open In Colab\"/></a>"
      ]
    },
    {
      "cell_type": "code",
      "source": [
        "from selenium import webdriver\n",
        "from selenium.webdriver.chrome.service import Service\n",
        "from bs4 import BeautifulSoup\n",
        "import pandas as pd\n",
        "import time\n"
      ],
      "metadata": {
        "id": "fBz5EmnYCxqG"
      },
      "execution_count": 5,
      "outputs": []
    },
    {
      "cell_type": "code",
      "source": [
        "import requests\n",
        "from bs4 import BeautifulSoup\n",
        "import csv\n",
        "\n",
        "key = 'cerita-ngapak'\n",
        "url = 'https://www.papeling.org/category/cerita-ngapak/page/4/'"
      ],
      "metadata": {
        "id": "-dkOL-J1GeaY"
      },
      "execution_count": 8,
      "outputs": []
    },
    {
      "cell_type": "code",
      "source": [
        "import requests\n",
        "from bs4 import BeautifulSoup\n",
        "\n",
        "page = requests.get('https://www.papeling.org/category/cerita-ngapak/page/4/')\n",
        "\n",
        "print (page.content)"
      ],
      "metadata": {
        "colab": {
          "base_uri": "https://localhost:8080/"
        },
        "id": "6p3C6q5RIEmv",
        "outputId": "676275d6-ca05-4dc1-dcb2-04ab62c65e5a"
      },
      "execution_count": 9,
      "outputs": [
        {
          "output_type": "stream",
          "name": "stdout",
          "text": [
            "b'<!DOCTYPE html>\\n<html lang=\"en\">\\n<head>\\n    <meta charset=\"UTF-8\">\\n    <meta http-equiv=\"X-UA-Compatible\" content=\"IE=edge\">\\n    <meta name=\"viewport\" content=\"width=device-width, initial-scale=1.0\">\\n    <title>\\n    Sorry, you have been blocked. - You are unable to access the web page.    </title>\\n    <link rel=\"stylesheet\" type=\"text/css\" href=\"https://static.domainesia.com/assets/fonts/842623/7F38FB22E551161E9.css\"/>\\n    <style>\\n        :root{font-family:\\'Whitney\\',Courier,monospace;font-size:16px;margin:0;padding:0;--color-blue:#0566C6;--color-gray:#9196A6}section{text-align:center;display:flex;flex-direction:column;justify-content:center;align-items:center;height:100vh;margin-top:-3rem;padding:0 1.2rem}h1{color:var(--color-blue);font-size:3rem;padding:0;margin:0}p{color:var(--color-gray);font-size:1.5rem;margin:30px 0}img{max-width:40rem}@media screen and (max-width:768px){img{max-width:100%}}\\n    </style>\\n</head>\\n<body>\\n    <section>\\n        <h1>Whoops!</h1>\\n        <p>\\n        You are unable to access the web page.    </p>\\n        <img srcset=\"https://static.domainesia.com/assets/slots/webcdn/server/img/error-code/svg/error-503.svg\" alt=\"You are unable to access the web page.\" width=\"640\" height=\"342\">\\n    </section>\\n</body>\\n</html>\\n\\n'\n"
          ]
        }
      ]
    }
  ]
}