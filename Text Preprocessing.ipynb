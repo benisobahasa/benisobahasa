{
  "nbformat": 4,
  "nbformat_minor": 0,
  "metadata": {
    "colab": {
      "provenance": [],
      "authorship_tag": "ABX9TyP0TJTdzVaM1pqZ1wncQYNg",
      "include_colab_link": true
    },
    "kernelspec": {
      "name": "python3",
      "display_name": "Python 3"
    },
    "language_info": {
      "name": "python"
    }
  },
  "cells": [
    {
      "cell_type": "markdown",
      "metadata": {
        "id": "view-in-github",
        "colab_type": "text"
      },
      "source": [
        "<a href=\"https://colab.research.google.com/github/benisobahasa/benisobahasa/blob/main/Text%20Preprocessing.ipynb\" target=\"_parent\"><img src=\"https://colab.research.google.com/assets/colab-badge.svg\" alt=\"Open In Colab\"/></a>"
      ]
    },
    {
      "cell_type": "code",
      "execution_count": 1,
      "metadata": {
        "colab": {
          "base_uri": "https://localhost:8080/"
        },
        "id": "ggfj_lUbpvS2",
        "outputId": "8971da30-6b0c-4b9c-9fed-4a1221a0e498"
      },
      "outputs": [
        {
          "output_type": "stream",
          "name": "stdout",
          "text": [
            "Collecting Sastrawi\n",
            "  Downloading Sastrawi-1.0.1-py2.py3-none-any.whl (209 kB)\n",
            "\u001b[2K     \u001b[90m━━━━━━━━━━━━━━━━━━━━━━━━━━━━━━━━━━━━━━━━\u001b[0m \u001b[32m209.7/209.7 kB\u001b[0m \u001b[31m3.5 MB/s\u001b[0m eta \u001b[36m0:00:00\u001b[0m\n",
            "\u001b[?25hInstalling collected packages: Sastrawi\n",
            "Successfully installed Sastrawi-1.0.1\n"
          ]
        }
      ],
      "source": [
        "pip install Sastrawi"
      ]
    },
    {
      "cell_type": "code",
      "source": [
        "import nltk\n",
        "nltk.download('punkt');"
      ],
      "metadata": {
        "colab": {
          "base_uri": "https://localhost:8080/"
        },
        "id": "HYDch7cvqLTf",
        "outputId": "11886ca9-7722-4015-95f7-e7bc37b482a3"
      },
      "execution_count": 2,
      "outputs": [
        {
          "output_type": "stream",
          "name": "stderr",
          "text": [
            "[nltk_data] Downloading package punkt to /root/nltk_data...\n",
            "[nltk_data]   Unzipping tokenizers/punkt.zip.\n"
          ]
        }
      ]
    },
    {
      "cell_type": "code",
      "source": [
        "kalimat=\"Ketua MUI Bidang Fatwa Prof Asrorun Niam Sholeh menegaskan bahwa mendukung perjuangan kemerdekaan Palestina atas agresi Israel hukumnya wajib. Sebaliknya, mendukung Israel dan mendukung produk yang dukung Israel hukumnya haram. “Mendukung pihak yang diketahui mendukung agresi Israel, baik langsung maupun tidak langsung, seperti dengan membeli produk dari produsen yang secara nyata mendukung agresi Israel hukumnya haram,” tegas Prof Niam saat menyampaikan hasil fatwa MUI, Jumat di Kantor MUI, Menteng, Jakarta Pusat. Karena itu, Guru Besar Ilmu Fikih UIN Jakarta ini mengimbau umat Islam semaksimal mungkin menghindari transaksi dan penggunaan produk Israel dan yang terafiliasi dengan Israel serta yang mendukung penjajahan dan zionisme. “Dukungan terhadap kemerdekaan Palestina saat ini hukumnya wajib. Maka kita tidak boleh mendukung pihak yang memerangi Palestina, termasuk penggunaan produk yang hasilnya secara nyata menyokong tindakan pembunuhan warga Palestina,” ujar Kiai Niam. Lebih lanjut, pengasuh Pesantren Al-Nahdlah Depok ini menyatakan bahwa dukungan terhadap kemerdekaan Palestina termasuk dengan mendistribusikan zakat, infaq dan sedekah untuk kepentingan perjuangan rakyat Palestina.  “Umat Islam diimbau untuk mendukung perjuangan Palestina, seperti gerakan menggalang dana kemanusian dan perjuangan, mendoakan untuk kemenangan, dan melakukan shalat ghaib untuk para syuhada Palestina”, tegas Prof Niam menyampaikan rekomendasi fatwa. Fatwa Nomor Nomor 83 Tahun 2023 Tentang tentang Hukum Dukungan terhadap Palestina ini juga merekomendasikan agar pemerintah mengambil langkah-langkah tegas membantu perjuangan Palestina. Di antaranya melalui jalur diplomasi di PBB untuk menghentikan perang dan sanksi pada Israel, pengiriman bantuan kemanusiaan, dan konsolidasi negara-negara OKI untuk menekan Israel menghentikan agresi. Di samping itu, MUI juga menegaskan bahwa zakat dari masyarakat muslim di Indonesia dapat didistribusikan untuk kepentingan jihad kemerdekaan Palestina. “Pada dasarnya dana zakat harus didistribusikan kepada mustahik yang berada di sekitar muzakki. Dalam hal keadaan darurat atau kebutuhan yang mendesak dana zakat boleh didistribusikan ke mustahik yang berada di tempat yang lebih jauh, seperti untuk perjuangan Palestina,” tegasnya. Karena itu, Prof Niam mengajak kepada BAZNAS dan lembaga-lembaga amil zakat nasional (LAZNAS) untuk menggalang zakat, infaq, dan sedekah guna membantu perjuangan umat Islam di Palestina. Fatwa ini dibahas sebagai bentuk tanggung jawab keulamaan MUI dalam menyikapi agresi Israel terhadap Palestina yang mengancam kemanusiaan. Di sisi lain, ada pihak yang berusaha memberikan empati dan dukungan pada Israel, baik langsung maupun tidak langsung, termasuk upaya sebagian pihak yang mendiskreditkan pihak yang memberikan dukungan kemerdekaan Palestina. Hadir dalam konferensi pers di MUI hari ini Sekjen MUI Buya Amirsyah Tambunan, Ketua MUI Bidang Luar Negeri Prof Sudarnoto Abdul Hakim, Bendahara MUI KH Rahmad Hidayat, Sekretaris Komisi Fatwa MUI KH Miftahul Huda, Komisioner BAZNAS Rizaludin Kurniawan, dan para pengurus BAZNAS serta Komisi Fatwa MUI\"\n",
        "kalimat=kalimat.lower()\n",
        "print(kalimat)"
      ],
      "metadata": {
        "colab": {
          "base_uri": "https://localhost:8080/"
        },
        "id": "PH2NWmF1q2A1",
        "outputId": "6cfa597c-b95d-4914-9aa2-bec518149310"
      },
      "execution_count": 3,
      "outputs": [
        {
          "output_type": "stream",
          "name": "stdout",
          "text": [
            "ketua mui bidang fatwa prof asrorun niam sholeh menegaskan bahwa mendukung perjuangan kemerdekaan palestina atas agresi israel hukumnya wajib. sebaliknya, mendukung israel dan mendukung produk yang dukung israel hukumnya haram. “mendukung pihak yang diketahui mendukung agresi israel, baik langsung maupun tidak langsung, seperti dengan membeli produk dari produsen yang secara nyata mendukung agresi israel hukumnya haram,” tegas prof niam saat menyampaikan hasil fatwa mui, jumat di kantor mui, menteng, jakarta pusat. karena itu, guru besar ilmu fikih uin jakarta ini mengimbau umat islam semaksimal mungkin menghindari transaksi dan penggunaan produk israel dan yang terafiliasi dengan israel serta yang mendukung penjajahan dan zionisme. “dukungan terhadap kemerdekaan palestina saat ini hukumnya wajib. maka kita tidak boleh mendukung pihak yang memerangi palestina, termasuk penggunaan produk yang hasilnya secara nyata menyokong tindakan pembunuhan warga palestina,” ujar kiai niam. lebih lanjut, pengasuh pesantren al-nahdlah depok ini menyatakan bahwa dukungan terhadap kemerdekaan palestina termasuk dengan mendistribusikan zakat, infaq dan sedekah untuk kepentingan perjuangan rakyat palestina.  “umat islam diimbau untuk mendukung perjuangan palestina, seperti gerakan menggalang dana kemanusian dan perjuangan, mendoakan untuk kemenangan, dan melakukan shalat ghaib untuk para syuhada palestina”, tegas prof niam menyampaikan rekomendasi fatwa. fatwa nomor nomor 83 tahun 2023 tentang tentang hukum dukungan terhadap palestina ini juga merekomendasikan agar pemerintah mengambil langkah-langkah tegas membantu perjuangan palestina. di antaranya melalui jalur diplomasi di pbb untuk menghentikan perang dan sanksi pada israel, pengiriman bantuan kemanusiaan, dan konsolidasi negara-negara oki untuk menekan israel menghentikan agresi. di samping itu, mui juga menegaskan bahwa zakat dari masyarakat muslim di indonesia dapat didistribusikan untuk kepentingan jihad kemerdekaan palestina. “pada dasarnya dana zakat harus didistribusikan kepada mustahik yang berada di sekitar muzakki. dalam hal keadaan darurat atau kebutuhan yang mendesak dana zakat boleh didistribusikan ke mustahik yang berada di tempat yang lebih jauh, seperti untuk perjuangan palestina,” tegasnya. karena itu, prof niam mengajak kepada baznas dan lembaga-lembaga amil zakat nasional (laznas) untuk menggalang zakat, infaq, dan sedekah guna membantu perjuangan umat islam di palestina. fatwa ini dibahas sebagai bentuk tanggung jawab keulamaan mui dalam menyikapi agresi israel terhadap palestina yang mengancam kemanusiaan. di sisi lain, ada pihak yang berusaha memberikan empati dan dukungan pada israel, baik langsung maupun tidak langsung, termasuk upaya sebagian pihak yang mendiskreditkan pihak yang memberikan dukungan kemerdekaan palestina. hadir dalam konferensi pers di mui hari ini sekjen mui buya amirsyah tambunan, ketua mui bidang luar negeri prof sudarnoto abdul hakim, bendahara mui kh rahmad hidayat, sekretaris komisi fatwa mui kh miftahul huda, komisioner baznas rizaludin kurniawan, dan para pengurus baznas serta komisi fatwa mui\n"
          ]
        }
      ]
    },
    {
      "cell_type": "code",
      "source": [
        "import re\n",
        "kalimat=re.sub(r\"\\d+\",\"\",kalimat)\n",
        "print(kalimat)"
      ],
      "metadata": {
        "colab": {
          "base_uri": "https://localhost:8080/"
        },
        "id": "iiBvGZpNtPvl",
        "outputId": "245d248b-f2a7-48c7-addb-e645c225d442"
      },
      "execution_count": 4,
      "outputs": [
        {
          "output_type": "stream",
          "name": "stdout",
          "text": [
            "ketua mui bidang fatwa prof asrorun niam sholeh menegaskan bahwa mendukung perjuangan kemerdekaan palestina atas agresi israel hukumnya wajib. sebaliknya, mendukung israel dan mendukung produk yang dukung israel hukumnya haram. “mendukung pihak yang diketahui mendukung agresi israel, baik langsung maupun tidak langsung, seperti dengan membeli produk dari produsen yang secara nyata mendukung agresi israel hukumnya haram,” tegas prof niam saat menyampaikan hasil fatwa mui, jumat di kantor mui, menteng, jakarta pusat. karena itu, guru besar ilmu fikih uin jakarta ini mengimbau umat islam semaksimal mungkin menghindari transaksi dan penggunaan produk israel dan yang terafiliasi dengan israel serta yang mendukung penjajahan dan zionisme. “dukungan terhadap kemerdekaan palestina saat ini hukumnya wajib. maka kita tidak boleh mendukung pihak yang memerangi palestina, termasuk penggunaan produk yang hasilnya secara nyata menyokong tindakan pembunuhan warga palestina,” ujar kiai niam. lebih lanjut, pengasuh pesantren al-nahdlah depok ini menyatakan bahwa dukungan terhadap kemerdekaan palestina termasuk dengan mendistribusikan zakat, infaq dan sedekah untuk kepentingan perjuangan rakyat palestina.  “umat islam diimbau untuk mendukung perjuangan palestina, seperti gerakan menggalang dana kemanusian dan perjuangan, mendoakan untuk kemenangan, dan melakukan shalat ghaib untuk para syuhada palestina”, tegas prof niam menyampaikan rekomendasi fatwa. fatwa nomor nomor  tahun  tentang tentang hukum dukungan terhadap palestina ini juga merekomendasikan agar pemerintah mengambil langkah-langkah tegas membantu perjuangan palestina. di antaranya melalui jalur diplomasi di pbb untuk menghentikan perang dan sanksi pada israel, pengiriman bantuan kemanusiaan, dan konsolidasi negara-negara oki untuk menekan israel menghentikan agresi. di samping itu, mui juga menegaskan bahwa zakat dari masyarakat muslim di indonesia dapat didistribusikan untuk kepentingan jihad kemerdekaan palestina. “pada dasarnya dana zakat harus didistribusikan kepada mustahik yang berada di sekitar muzakki. dalam hal keadaan darurat atau kebutuhan yang mendesak dana zakat boleh didistribusikan ke mustahik yang berada di tempat yang lebih jauh, seperti untuk perjuangan palestina,” tegasnya. karena itu, prof niam mengajak kepada baznas dan lembaga-lembaga amil zakat nasional (laznas) untuk menggalang zakat, infaq, dan sedekah guna membantu perjuangan umat islam di palestina. fatwa ini dibahas sebagai bentuk tanggung jawab keulamaan mui dalam menyikapi agresi israel terhadap palestina yang mengancam kemanusiaan. di sisi lain, ada pihak yang berusaha memberikan empati dan dukungan pada israel, baik langsung maupun tidak langsung, termasuk upaya sebagian pihak yang mendiskreditkan pihak yang memberikan dukungan kemerdekaan palestina. hadir dalam konferensi pers di mui hari ini sekjen mui buya amirsyah tambunan, ketua mui bidang luar negeri prof sudarnoto abdul hakim, bendahara mui kh rahmad hidayat, sekretaris komisi fatwa mui kh miftahul huda, komisioner baznas rizaludin kurniawan, dan para pengurus baznas serta komisi fatwa mui\n"
          ]
        }
      ]
    },
    {
      "cell_type": "code",
      "source": [
        "import string\n",
        "kalimat=kalimat.translate(str.maketrans(\"\",\"\",string.punctuation))\n",
        "print(kalimat)"
      ],
      "metadata": {
        "colab": {
          "base_uri": "https://localhost:8080/"
        },
        "id": "kk0KdOnkuaao",
        "outputId": "47926312-8021-4026-f6cd-8c48337273ed"
      },
      "execution_count": 5,
      "outputs": [
        {
          "output_type": "stream",
          "name": "stdout",
          "text": [
            "ketua mui bidang fatwa prof asrorun niam sholeh menegaskan bahwa mendukung perjuangan kemerdekaan palestina atas agresi israel hukumnya wajib sebaliknya mendukung israel dan mendukung produk yang dukung israel hukumnya haram “mendukung pihak yang diketahui mendukung agresi israel baik langsung maupun tidak langsung seperti dengan membeli produk dari produsen yang secara nyata mendukung agresi israel hukumnya haram” tegas prof niam saat menyampaikan hasil fatwa mui jumat di kantor mui menteng jakarta pusat karena itu guru besar ilmu fikih uin jakarta ini mengimbau umat islam semaksimal mungkin menghindari transaksi dan penggunaan produk israel dan yang terafiliasi dengan israel serta yang mendukung penjajahan dan zionisme “dukungan terhadap kemerdekaan palestina saat ini hukumnya wajib maka kita tidak boleh mendukung pihak yang memerangi palestina termasuk penggunaan produk yang hasilnya secara nyata menyokong tindakan pembunuhan warga palestina” ujar kiai niam lebih lanjut pengasuh pesantren alnahdlah depok ini menyatakan bahwa dukungan terhadap kemerdekaan palestina termasuk dengan mendistribusikan zakat infaq dan sedekah untuk kepentingan perjuangan rakyat palestina  “umat islam diimbau untuk mendukung perjuangan palestina seperti gerakan menggalang dana kemanusian dan perjuangan mendoakan untuk kemenangan dan melakukan shalat ghaib untuk para syuhada palestina” tegas prof niam menyampaikan rekomendasi fatwa fatwa nomor nomor  tahun  tentang tentang hukum dukungan terhadap palestina ini juga merekomendasikan agar pemerintah mengambil langkahlangkah tegas membantu perjuangan palestina di antaranya melalui jalur diplomasi di pbb untuk menghentikan perang dan sanksi pada israel pengiriman bantuan kemanusiaan dan konsolidasi negaranegara oki untuk menekan israel menghentikan agresi di samping itu mui juga menegaskan bahwa zakat dari masyarakat muslim di indonesia dapat didistribusikan untuk kepentingan jihad kemerdekaan palestina “pada dasarnya dana zakat harus didistribusikan kepada mustahik yang berada di sekitar muzakki dalam hal keadaan darurat atau kebutuhan yang mendesak dana zakat boleh didistribusikan ke mustahik yang berada di tempat yang lebih jauh seperti untuk perjuangan palestina” tegasnya karena itu prof niam mengajak kepada baznas dan lembagalembaga amil zakat nasional laznas untuk menggalang zakat infaq dan sedekah guna membantu perjuangan umat islam di palestina fatwa ini dibahas sebagai bentuk tanggung jawab keulamaan mui dalam menyikapi agresi israel terhadap palestina yang mengancam kemanusiaan di sisi lain ada pihak yang berusaha memberikan empati dan dukungan pada israel baik langsung maupun tidak langsung termasuk upaya sebagian pihak yang mendiskreditkan pihak yang memberikan dukungan kemerdekaan palestina hadir dalam konferensi pers di mui hari ini sekjen mui buya amirsyah tambunan ketua mui bidang luar negeri prof sudarnoto abdul hakim bendahara mui kh rahmad hidayat sekretaris komisi fatwa mui kh miftahul huda komisioner baznas rizaludin kurniawan dan para pengurus baznas serta komisi fatwa mui\n"
          ]
        }
      ]
    },
    {
      "cell_type": "code",
      "source": [
        "from Sastrawi.StopWordRemover.StopWordRemoverFactory import StopWordRemoverFactory\n",
        "\n",
        "factory=StopWordRemoverFactory()\n",
        "stopword=factory.create_stop_word_remover()\n",
        "\n",
        "kalimat=stopword.remove(kalimat)\n",
        "print(kalimat)"
      ],
      "metadata": {
        "colab": {
          "base_uri": "https://localhost:8080/"
        },
        "id": "UsKMNixawwMN",
        "outputId": "8a4be553-5459-4328-f472-6867ed3f4768"
      },
      "execution_count": 9,
      "outputs": [
        {
          "output_type": "stream",
          "name": "stdout",
          "text": [
            "ketua mui bidang fatwa prof asrorun niam sholeh menegaskan mendukung perjuangan kemerdekaan palestina atas agresi israel hukumnya wajib sebaliknya mendukung israel mendukung produk dukung israel hukumnya haram “mendukung pihak diketahui mendukung agresi israel baik langsung maupun langsung membeli produk produsen nyata mendukung agresi israel hukumnya haram” tegas prof niam menyampaikan hasil fatwa mui jumat kantor mui menteng jakarta pusat guru besar ilmu fikih uin jakarta mengimbau umat islam semaksimal mungkin menghindari transaksi penggunaan produk israel terafiliasi israel mendukung penjajahan zionisme “dukungan kemerdekaan palestina hukumnya wajib kita mendukung pihak memerangi palestina termasuk penggunaan produk hasilnya secara nyata menyokong tindakan pembunuhan warga palestina” ujar kiai niam lebih lanjut pengasuh pesantren alnahdlah depok menyatakan dukungan kemerdekaan palestina termasuk dengan mendistribusikan zakat infaq sedekah kepentingan perjuangan rakyat palestina  “umat islam diimbau mendukung perjuangan palestina gerakan menggalang dana kemanusian perjuangan mendoakan kemenangan melakukan shalat ghaib para syuhada palestina” tegas prof niam menyampaikan rekomendasi fatwa fatwa nomor nomor  tahun  tentang hukum dukungan palestina merekomendasikan pemerintah mengambil langkahlangkah tegas membantu perjuangan palestina antaranya melalui jalur diplomasi pbb menghentikan perang sanksi israel pengiriman bantuan kemanusiaan konsolidasi negaranegara oki menekan israel menghentikan agresi samping itu mui juga menegaskan zakat masyarakat muslim indonesia didistribusikan kepentingan jihad kemerdekaan palestina “pada dasarnya dana zakat didistribusikan mustahik berada sekitar muzakki hal keadaan darurat kebutuhan mendesak dana zakat boleh didistribusikan mustahik berada tempat lebih jauh perjuangan palestina” tegasnya itu prof niam mengajak baznas lembagalembaga amil zakat nasional laznas untuk menggalang zakat infaq sedekah membantu perjuangan umat islam palestina fatwa dibahas bentuk tanggung jawab keulamaan mui menyikapi agresi israel palestina mengancam kemanusiaan sisi ada pihak berusaha memberikan empati dukungan israel baik langsung maupun langsung termasuk upaya sebagian pihak yang mendiskreditkan pihak yang memberikan dukungan kemerdekaan palestina hadir konferensi pers mui hari ini sekjen mui buya amirsyah tambunan ketua mui bidang luar negeri prof sudarnoto abdul hakim bendahara mui kh rahmad hidayat sekretaris komisi fatwa mui kh miftahul huda komisioner baznas rizaludin kurniawan para pengurus baznas komisi fatwa mui\n"
          ]
        }
      ]
    },
    {
      "cell_type": "code",
      "source": [
        "from Sastrawi.Stemmer.StemmerFactory import StemmerFactory\n",
        "factory=StemmerFactory()\n",
        "stemmer=factory.create_stemmer()\n",
        "kalimat=stemmer.stem(kalimat)\n",
        "print(kalimat)"
      ],
      "metadata": {
        "colab": {
          "base_uri": "https://localhost:8080/"
        },
        "id": "h87qarAKzBng",
        "outputId": "8c1a5088-98ec-41a4-ea47-058efee0c94e"
      },
      "execution_count": 10,
      "outputs": [
        {
          "output_type": "stream",
          "name": "stdout",
          "text": [
            "ketua mui bidang fatwa prof asrorun niam sholeh tegas dukung juang merdeka palestina atas agresi israel hukum wajib balik dukung israel dukung produk dukung israel hukum haram dukung pihak tahu dukung agresi israel baik langsung maupun langsung beli produk produsen nyata dukung agresi israel hukum haram tegas prof niam sampai hasil fatwa mui jumat kantor mui menteng jakarta pusat guru besar ilmu fikih uin jakarta imbau umat islam maksimal mungkin hindar transaksi guna produk israel afiliasi israel dukung jajah zionisme dukung merdeka palestina hukum wajib kita dukung pihak rang palestina masuk guna produk hasil cara nyata sokong tindak bunuh warga palestina ujar kiai niam lebih lanjut asuh pesantren alnahdlah depok nyata dukung merdeka palestina masuk dengan distribusi zakat infaq sedekah penting juang rakyat palestina umat islam imbau dukung juang palestina gera galang dana kemanusian juang doa menang laku shalat ghaib para syuhada palestina tegas prof niam sampai rekomendasi fatwa fatwa nomor nomor tahun tentang hukum dukung palestina rekomendasi perintah ambil langkahlangkah tegas bantu juang palestina antara lalu jalur diplomasi pbb henti perang sanksi israel kirim bantu manusia konsolidasi negaranegara oki tekan israel henti agresi samping itu mui juga tegas zakat masyarakat muslim indonesia distribusi penting jihad merdeka palestina pada dasar dana zakat distribusi mustahik ada sekitar muzakki hal ada darurat butuh desak dana zakat boleh distribusi mustahik ada tempat lebih jauh juang palestina tegas itu prof niam ajak baznas lembagalembaga amil zakat nasional laznas untuk galang zakat infaq sedekah bantu juang umat islam palestina fatwa bahas bentuk tanggung jawab ulama mui sikap agresi israel palestina ancam manusia sisi ada pihak usaha beri empati dukung israel baik langsung maupun langsung masuk upaya bagi pihak yang diskredit pihak yang beri dukung merdeka palestina hadir konferensi pers mui hari ini sekjen mui buya amirsyah tambun ketua mui bidang luar negeri prof sudarnoto abdul hakim bendahara mui kh rahmad hidayat sekretaris komisi fatwa mui kh miftahul huda komisioner baznas rizaludin kurniawan para urus baznas komisi fatwa mui\n"
          ]
        }
      ]
    },
    {
      "cell_type": "code",
      "source": [
        "from nltk.tokenize import word_tokenize\n",
        "\n",
        "token=nltk.tokenize.word_tokenize(kalimat)\n",
        "print(token)"
      ],
      "metadata": {
        "colab": {
          "base_uri": "https://localhost:8080/"
        },
        "id": "Z_bfyln60bMj",
        "outputId": "e364d4b8-d4a5-44c3-ad8a-2996a122a0ac"
      },
      "execution_count": 11,
      "outputs": [
        {
          "output_type": "stream",
          "name": "stdout",
          "text": [
            "['ketua', 'mui', 'bidang', 'fatwa', 'prof', 'asrorun', 'niam', 'sholeh', 'tegas', 'dukung', 'juang', 'merdeka', 'palestina', 'atas', 'agresi', 'israel', 'hukum', 'wajib', 'balik', 'dukung', 'israel', 'dukung', 'produk', 'dukung', 'israel', 'hukum', 'haram', 'dukung', 'pihak', 'tahu', 'dukung', 'agresi', 'israel', 'baik', 'langsung', 'maupun', 'langsung', 'beli', 'produk', 'produsen', 'nyata', 'dukung', 'agresi', 'israel', 'hukum', 'haram', 'tegas', 'prof', 'niam', 'sampai', 'hasil', 'fatwa', 'mui', 'jumat', 'kantor', 'mui', 'menteng', 'jakarta', 'pusat', 'guru', 'besar', 'ilmu', 'fikih', 'uin', 'jakarta', 'imbau', 'umat', 'islam', 'maksimal', 'mungkin', 'hindar', 'transaksi', 'guna', 'produk', 'israel', 'afiliasi', 'israel', 'dukung', 'jajah', 'zionisme', 'dukung', 'merdeka', 'palestina', 'hukum', 'wajib', 'kita', 'dukung', 'pihak', 'rang', 'palestina', 'masuk', 'guna', 'produk', 'hasil', 'cara', 'nyata', 'sokong', 'tindak', 'bunuh', 'warga', 'palestina', 'ujar', 'kiai', 'niam', 'lebih', 'lanjut', 'asuh', 'pesantren', 'alnahdlah', 'depok', 'nyata', 'dukung', 'merdeka', 'palestina', 'masuk', 'dengan', 'distribusi', 'zakat', 'infaq', 'sedekah', 'penting', 'juang', 'rakyat', 'palestina', 'umat', 'islam', 'imbau', 'dukung', 'juang', 'palestina', 'gera', 'galang', 'dana', 'kemanusian', 'juang', 'doa', 'menang', 'laku', 'shalat', 'ghaib', 'para', 'syuhada', 'palestina', 'tegas', 'prof', 'niam', 'sampai', 'rekomendasi', 'fatwa', 'fatwa', 'nomor', 'nomor', 'tahun', 'tentang', 'hukum', 'dukung', 'palestina', 'rekomendasi', 'perintah', 'ambil', 'langkahlangkah', 'tegas', 'bantu', 'juang', 'palestina', 'antara', 'lalu', 'jalur', 'diplomasi', 'pbb', 'henti', 'perang', 'sanksi', 'israel', 'kirim', 'bantu', 'manusia', 'konsolidasi', 'negaranegara', 'oki', 'tekan', 'israel', 'henti', 'agresi', 'samping', 'itu', 'mui', 'juga', 'tegas', 'zakat', 'masyarakat', 'muslim', 'indonesia', 'distribusi', 'penting', 'jihad', 'merdeka', 'palestina', 'pada', 'dasar', 'dana', 'zakat', 'distribusi', 'mustahik', 'ada', 'sekitar', 'muzakki', 'hal', 'ada', 'darurat', 'butuh', 'desak', 'dana', 'zakat', 'boleh', 'distribusi', 'mustahik', 'ada', 'tempat', 'lebih', 'jauh', 'juang', 'palestina', 'tegas', 'itu', 'prof', 'niam', 'ajak', 'baznas', 'lembagalembaga', 'amil', 'zakat', 'nasional', 'laznas', 'untuk', 'galang', 'zakat', 'infaq', 'sedekah', 'bantu', 'juang', 'umat', 'islam', 'palestina', 'fatwa', 'bahas', 'bentuk', 'tanggung', 'jawab', 'ulama', 'mui', 'sikap', 'agresi', 'israel', 'palestina', 'ancam', 'manusia', 'sisi', 'ada', 'pihak', 'usaha', 'beri', 'empati', 'dukung', 'israel', 'baik', 'langsung', 'maupun', 'langsung', 'masuk', 'upaya', 'bagi', 'pihak', 'yang', 'diskredit', 'pihak', 'yang', 'beri', 'dukung', 'merdeka', 'palestina', 'hadir', 'konferensi', 'pers', 'mui', 'hari', 'ini', 'sekjen', 'mui', 'buya', 'amirsyah', 'tambun', 'ketua', 'mui', 'bidang', 'luar', 'negeri', 'prof', 'sudarnoto', 'abdul', 'hakim', 'bendahara', 'mui', 'kh', 'rahmad', 'hidayat', 'sekretaris', 'komisi', 'fatwa', 'mui', 'kh', 'miftahul', 'huda', 'komisioner', 'baznas', 'rizaludin', 'kurniawan', 'para', 'urus', 'baznas', 'komisi', 'fatwa', 'mui']\n"
          ]
        }
      ]
    },
    {
      "cell_type": "code",
      "source": [
        "from nltk.probability import FreqDist\n",
        "\n",
        "import matplotlib.pyplot as plt\n",
        "\n",
        "all_tokens = (token for sublist in ('stemmer') for token in sublist)\n",
        "freq_dist = FreqDist (all_tokens)\n",
        "print(freq_dist.most_common)"
      ],
      "metadata": {
        "colab": {
          "base_uri": "https://localhost:8080/"
        },
        "id": "MAn1cGqhERu1",
        "outputId": "5a2470db-dfdf-4cf1-f06c-b5040f5c3a1b"
      },
      "execution_count": 13,
      "outputs": [
        {
          "output_type": "stream",
          "name": "stdout",
          "text": [
            "<bound method Counter.most_common of FreqDist({'e': 2, 'm': 2, 's': 1, 't': 1, 'r': 1})>\n"
          ]
        }
      ]
    },
    {
      "cell_type": "code",
      "source": [
        "freq_dist.plot(30,cumulative=False)\n",
        "plt.show"
      ],
      "metadata": {
        "colab": {
          "base_uri": "https://localhost:8080/",
          "height": 466
        },
        "id": "4VtmIPSoGHe5",
        "outputId": "cf2ce92a-110c-44d8-cdf3-7ac2e4a51d20"
      },
      "execution_count": 15,
      "outputs": [
        {
          "output_type": "display_data",
          "data": {
            "text/plain": [
              "<Figure size 640x480 with 1 Axes>"
            ],
            "image/png": "[encoded data removed]"
          },
          "metadata": {}
        },
        {
          "output_type": "execute_result",
          "data": {
            "text/plain": [
              "<function matplotlib.pyplot.show(close=None, block=None)>"
            ]
          },
          "metadata": {},
          "execution_count": 15
        }
      ]
    }
  ]
}