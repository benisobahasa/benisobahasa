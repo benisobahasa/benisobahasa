{
  "cells": [
    {
      "cell_type": "markdown",
      "metadata": {
        "id": "view-in-github",
        "colab_type": "text"
      },
      "source": [
        "<a href=\"https://colab.research.google.com/github/benisobahasa/benisobahasa/blob/main/Chatbot_Indonesian_Learner.ipynb\" target=\"_parent\"><img src=\"https://colab.research.google.com/assets/colab-badge.svg\" alt=\"Open In Colab\"/></a>"
      ]
    },
    {
      "cell_type": "code",
      "execution_count": null,
      "metadata": {
        "colab": {
          "background_save": true,
          "base_uri": "https://localhost:8080/"
        },
        "id": "0APrNWLOJ5cz",
        "outputId": "3c5b45ed-6c27-48d3-cace-0cb5e0d01957"
      },
      "outputs": [
        {
          "name": "stdout",
          "output_type": "stream",
          "text": [
            "Welcome!\n",
            "I am your Indonesian language learning assistant. How can I help you today?\n"
          ]
        }
      ],
      "source": [
        "import random\n",
        "\n",
        "def greet():\n",
        "    greetings = [\"Hello!\", \"Hi there!\", \"Welcome!\"]\n",
        "    return random.choice(greetings)\n",
        "\n",
        "def farewell():\n",
        "    farewells = [\"Goodbye!\", \"See you later!\", \"Farewell!\"]\n",
        "    return random.choice(farewells)\n",
        "\n",
        "def introduce():\n",
        "    return \"I am your Indonesian language learning assistant. How can I help you today?\"\n",
        "\n",
        "def learn_indonesian(topic):\n",
        "    responses = {\n",
        "        \"greetings\": [\"Selamat pagi (Good morning)\", \"Selamat siang (Good afternoon)\", \"Selamat sore (Good evening)\", \"Halo (Hello)\"],\n",
        "        \"common_phrases\": [\"Apa kabar? (How are you?)\", \"Terima kasih (Thank you)\", \"Tolong (Please)\", \"Maaf (Sorry)\"],\n",
        "        \"numbers\": [\"satu (one)\", \"dua (two)\", \"tiga (three)\", \"empat (four)\", \"lima (five)\"]\n",
        "    }\n",
        "\n",
        "    if topic in responses:\n",
        "        return random.choice(responses[topic])\n",
        "    else:\n",
        "        return \"I'm sorry, I don't have information on that topic. Let's stick to greetings, common phrases, or numbers for now.\"\n",
        "\n",
        "def chat():\n",
        "    print(greet())\n",
        "    print(introduce())\n",
        "\n",
        "    while True:\n",
        "        user_input = input(\"You: \").lower()\n",
        "\n",
        "        if user_input == \"exit\":\n",
        "            print(farewell())\n",
        "            break\n",
        "        elif \"learn\" in user_input:\n",
        "            _, topic = user_input.split(\" \", 1)\n",
        "            response = learn_indonesian(topic)\n",
        "            print(\"Bot:\", response)\n",
        "        else:\n",
        "            print(\"Bot: I'm sorry, I didn't understand. You can say 'learn [topic]' or type 'exit' to end the conversation.\")\n",
        "\n",
        "if __name__ == \"__main__\":\n",
        "    chat()\n"
      ]
    }
  ],
  "metadata": {
    "colab": {
      "provenance": [],
      "authorship_tag": "ABX9TyNM8M0JV5Sxiru0AxCtQ2Gk",
      "include_colab_link": true
    },
    "kernelspec": {
      "display_name": "Python 3",
      "name": "python3"
    },
    "language_info": {
      "name": "python"
    }
  },
  "nbformat": 4,
  "nbformat_minor": 0
}